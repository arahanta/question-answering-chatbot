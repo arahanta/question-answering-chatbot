{
 "cells": [
  {
   "cell_type": "markdown",
   "id": "5dd25a4e",
   "metadata": {},
   "source": [
    "## This module uses langchain-google-genai, pypdf, langchain, and chromadb to create a chatbot that can answer questions based on a PDF document"
   ]
  },
  {
   "cell_type": "code",
   "execution_count": 1,
   "id": "4ea12d72",
   "metadata": {},
   "outputs": [
    {
     "name": "stdout",
     "output_type": "stream",
     "text": [
      "Requirement already satisfied: langchain-google-genai in c:\\users\\pokhr\\appdata\\local\\programs\\python\\python311\\lib\\site-packages (0.0.5)\n",
      "Collecting langchain-google-genai\n",
      "  Downloading langchain_google_genai-0.0.6-py3-none-any.whl.metadata (2.7 kB)\n",
      "Requirement already satisfied: pypdf in c:\\users\\pokhr\\appdata\\local\\programs\\python\\python311\\lib\\site-packages (3.17.4)\n",
      "Requirement already satisfied: langchain in c:\\users\\pokhr\\appdata\\local\\programs\\python\\python311\\lib\\site-packages (0.1.0)\n",
      "Requirement already satisfied: chromadb in c:\\users\\pokhr\\appdata\\local\\programs\\python\\python311\\lib\\site-packages (0.4.22)\n",
      "Requirement already satisfied: google-generativeai<0.4.0,>=0.3.1 in c:\\users\\pokhr\\appdata\\local\\programs\\python\\python311\\lib\\site-packages (from langchain-google-genai) (0.3.2)\n",
      "Requirement already satisfied: langchain-core<0.2,>=0.1 in c:\\users\\pokhr\\appdata\\local\\programs\\python\\python311\\lib\\site-packages (from langchain-google-genai) (0.1.10)\n",
      "Requirement already satisfied: PyYAML>=5.3 in c:\\users\\pokhr\\appdata\\local\\programs\\python\\python311\\lib\\site-packages (from langchain) (6.0.1)\n",
      "Requirement already satisfied: SQLAlchemy<3,>=1.4 in c:\\users\\pokhr\\appdata\\local\\programs\\python\\python311\\lib\\site-packages (from langchain) (2.0.24)\n",
      "Requirement already satisfied: aiohttp<4.0.0,>=3.8.3 in c:\\users\\pokhr\\appdata\\local\\programs\\python\\python311\\lib\\site-packages (from langchain) (3.9.1)\n",
      "Requirement already satisfied: dataclasses-json<0.7,>=0.5.7 in c:\\users\\pokhr\\appdata\\local\\programs\\python\\python311\\lib\\site-packages (from langchain) (0.6.3)\n",
      "Requirement already satisfied: jsonpatch<2.0,>=1.33 in c:\\users\\pokhr\\appdata\\local\\programs\\python\\python311\\lib\\site-packages (from langchain) (1.33)\n",
      "Requirement already satisfied: langchain-community<0.1,>=0.0.9 in c:\\users\\pokhr\\appdata\\local\\programs\\python\\python311\\lib\\site-packages (from langchain) (0.0.11)\n",
      "Requirement already satisfied: langsmith<0.1.0,>=0.0.77 in c:\\users\\pokhr\\appdata\\local\\programs\\python\\python311\\lib\\site-packages (from langchain) (0.0.80)\n",
      "Requirement already satisfied: numpy<2,>=1 in c:\\users\\pokhr\\appdata\\local\\programs\\python\\python311\\lib\\site-packages (from langchain) (1.26.0)\n",
      "Requirement already satisfied: pydantic<3,>=1 in c:\\users\\pokhr\\appdata\\local\\programs\\python\\python311\\lib\\site-packages (from langchain) (2.5.3)\n",
      "Requirement already satisfied: requests<3,>=2 in c:\\users\\pokhr\\appdata\\local\\programs\\python\\python311\\lib\\site-packages (from langchain) (2.31.0)\n",
      "Requirement already satisfied: tenacity<9.0.0,>=8.1.0 in c:\\users\\pokhr\\appdata\\local\\programs\\python\\python311\\lib\\site-packages (from langchain) (8.2.3)\n",
      "Requirement already satisfied: build>=1.0.3 in c:\\users\\pokhr\\appdata\\local\\programs\\python\\python311\\lib\\site-packages (from chromadb) (1.0.3)\n",
      "Requirement already satisfied: chroma-hnswlib==0.7.3 in c:\\users\\pokhr\\appdata\\local\\programs\\python\\python311\\lib\\site-packages (from chromadb) (0.7.3)\n",
      "Requirement already satisfied: fastapi>=0.95.2 in c:\\users\\pokhr\\appdata\\local\\programs\\python\\python311\\lib\\site-packages (from chromadb) (0.108.0)\n",
      "Requirement already satisfied: uvicorn>=0.18.3 in c:\\users\\pokhr\\appdata\\local\\programs\\python\\python311\\lib\\site-packages (from uvicorn[standard]>=0.18.3->chromadb) (0.25.0)\n",
      "Requirement already satisfied: posthog>=2.4.0 in c:\\users\\pokhr\\appdata\\local\\programs\\python\\python311\\lib\\site-packages (from chromadb) (3.1.0)\n",
      "Requirement already satisfied: typing-extensions>=4.5.0 in c:\\users\\pokhr\\appdata\\local\\programs\\python\\python311\\lib\\site-packages (from chromadb) (4.9.0)\n",
      "Requirement already satisfied: pulsar-client>=3.1.0 in c:\\users\\pokhr\\appdata\\local\\programs\\python\\python311\\lib\\site-packages (from chromadb) (3.3.0)\n",
      "Requirement already satisfied: onnxruntime>=1.14.1 in c:\\users\\pokhr\\appdata\\local\\programs\\python\\python311\\lib\\site-packages (from chromadb) (1.16.3)\n",
      "Requirement already satisfied: opentelemetry-api>=1.2.0 in c:\\users\\pokhr\\appdata\\local\\programs\\python\\python311\\lib\\site-packages (from chromadb) (1.22.0)\n",
      "Requirement already satisfied: opentelemetry-exporter-otlp-proto-grpc>=1.2.0 in c:\\users\\pokhr\\appdata\\local\\programs\\python\\python311\\lib\\site-packages (from chromadb) (1.22.0)\n",
      "Requirement already satisfied: opentelemetry-instrumentation-fastapi>=0.41b0 in c:\\users\\pokhr\\appdata\\local\\programs\\python\\python311\\lib\\site-packages (from chromadb) (0.43b0)\n",
      "Requirement already satisfied: opentelemetry-sdk>=1.2.0 in c:\\users\\pokhr\\appdata\\local\\programs\\python\\python311\\lib\\site-packages (from chromadb) (1.22.0)\n",
      "Requirement already satisfied: tokenizers>=0.13.2 in c:\\users\\pokhr\\appdata\\local\\programs\\python\\python311\\lib\\site-packages (from chromadb) (0.15.0)\n",
      "Requirement already satisfied: pypika>=0.48.9 in c:\\users\\pokhr\\appdata\\local\\programs\\python\\python311\\lib\\site-packages (from chromadb) (0.48.9)\n",
      "Requirement already satisfied: tqdm>=4.65.0 in c:\\users\\pokhr\\appdata\\local\\programs\\python\\python311\\lib\\site-packages (from chromadb) (4.66.1)\n",
      "Requirement already satisfied: overrides>=7.3.1 in c:\\users\\pokhr\\appdata\\local\\programs\\python\\python311\\lib\\site-packages (from chromadb) (7.4.0)\n",
      "Requirement already satisfied: importlib-resources in c:\\users\\pokhr\\appdata\\local\\programs\\python\\python311\\lib\\site-packages (from chromadb) (6.1.1)\n",
      "Requirement already satisfied: grpcio>=1.58.0 in c:\\users\\pokhr\\appdata\\local\\programs\\python\\python311\\lib\\site-packages (from chromadb) (1.60.0)\n",
      "Requirement already satisfied: bcrypt>=4.0.1 in c:\\users\\pokhr\\appdata\\local\\programs\\python\\python311\\lib\\site-packages (from chromadb) (4.1.2)\n",
      "Requirement already satisfied: typer>=0.9.0 in c:\\users\\pokhr\\appdata\\local\\programs\\python\\python311\\lib\\site-packages (from chromadb) (0.9.0)\n",
      "Requirement already satisfied: kubernetes>=28.1.0 in c:\\users\\pokhr\\appdata\\local\\programs\\python\\python311\\lib\\site-packages (from chromadb) (28.1.0)\n",
      "Requirement already satisfied: mmh3>=4.0.1 in c:\\users\\pokhr\\appdata\\local\\programs\\python\\python311\\lib\\site-packages (from chromadb) (4.0.1)\n",
      "Requirement already satisfied: attrs>=17.3.0 in c:\\users\\pokhr\\appdata\\local\\programs\\python\\python311\\lib\\site-packages (from aiohttp<4.0.0,>=3.8.3->langchain) (22.1.0)\n",
      "Requirement already satisfied: multidict<7.0,>=4.5 in c:\\users\\pokhr\\appdata\\local\\programs\\python\\python311\\lib\\site-packages (from aiohttp<4.0.0,>=3.8.3->langchain) (6.0.4)\n",
      "Requirement already satisfied: yarl<2.0,>=1.0 in c:\\users\\pokhr\\appdata\\local\\programs\\python\\python311\\lib\\site-packages (from aiohttp<4.0.0,>=3.8.3->langchain) (1.9.4)\n",
      "Requirement already satisfied: frozenlist>=1.1.1 in c:\\users\\pokhr\\appdata\\local\\programs\\python\\python311\\lib\\site-packages (from aiohttp<4.0.0,>=3.8.3->langchain) (1.4.1)\n",
      "Requirement already satisfied: aiosignal>=1.1.2 in c:\\users\\pokhr\\appdata\\local\\programs\\python\\python311\\lib\\site-packages (from aiohttp<4.0.0,>=3.8.3->langchain) (1.3.1)\n",
      "Requirement already satisfied: packaging>=19.0 in c:\\users\\pokhr\\appdata\\local\\programs\\python\\python311\\lib\\site-packages (from build>=1.0.3->chromadb) (23.2)\n",
      "Requirement already satisfied: pyproject_hooks in c:\\users\\pokhr\\appdata\\local\\programs\\python\\python311\\lib\\site-packages (from build>=1.0.3->chromadb) (1.0.0)\n",
      "Requirement already satisfied: colorama in c:\\users\\pokhr\\appdata\\local\\programs\\python\\python311\\lib\\site-packages (from build>=1.0.3->chromadb) (0.4.6)\n",
      "Requirement already satisfied: marshmallow<4.0.0,>=3.18.0 in c:\\users\\pokhr\\appdata\\local\\programs\\python\\python311\\lib\\site-packages (from dataclasses-json<0.7,>=0.5.7->langchain) (3.20.1)\n",
      "Requirement already satisfied: typing-inspect<1,>=0.4.0 in c:\\users\\pokhr\\appdata\\local\\programs\\python\\python311\\lib\\site-packages (from dataclasses-json<0.7,>=0.5.7->langchain) (0.9.0)\n",
      "Requirement already satisfied: starlette<0.33.0,>=0.29.0 in c:\\users\\pokhr\\appdata\\local\\programs\\python\\python311\\lib\\site-packages (from fastapi>=0.95.2->chromadb) (0.32.0.post1)\n",
      "Requirement already satisfied: google-ai-generativelanguage==0.4.0 in c:\\users\\pokhr\\appdata\\local\\programs\\python\\python311\\lib\\site-packages (from google-generativeai<0.4.0,>=0.3.1->langchain-google-genai) (0.4.0)\n",
      "Requirement already satisfied: google-auth in c:\\users\\pokhr\\appdata\\local\\programs\\python\\python311\\lib\\site-packages (from google-generativeai<0.4.0,>=0.3.1->langchain-google-genai) (2.19.1)\n",
      "Requirement already satisfied: google-api-core in c:\\users\\pokhr\\appdata\\local\\programs\\python\\python311\\lib\\site-packages (from google-generativeai<0.4.0,>=0.3.1->langchain-google-genai) (2.15.0)\n",
      "Requirement already satisfied: protobuf in c:\\users\\pokhr\\appdata\\local\\programs\\python\\python311\\lib\\site-packages (from google-generativeai<0.4.0,>=0.3.1->langchain-google-genai) (4.23.2)\n",
      "Requirement already satisfied: proto-plus<2.0.0dev,>=1.22.3 in c:\\users\\pokhr\\appdata\\local\\programs\\python\\python311\\lib\\site-packages (from google-ai-generativelanguage==0.4.0->google-generativeai<0.4.0,>=0.3.1->langchain-google-genai) (1.23.0)\n",
      "Requirement already satisfied: jsonpointer>=1.9 in c:\\users\\pokhr\\appdata\\local\\programs\\python\\python311\\lib\\site-packages (from jsonpatch<2.0,>=1.33->langchain) (2.4)\n",
      "Requirement already satisfied: certifi>=14.05.14 in c:\\users\\pokhr\\appdata\\local\\programs\\python\\python311\\lib\\site-packages (from kubernetes>=28.1.0->chromadb) (2023.11.17)\n",
      "Requirement already satisfied: six>=1.9.0 in c:\\users\\pokhr\\appdata\\local\\programs\\python\\python311\\lib\\site-packages (from kubernetes>=28.1.0->chromadb) (1.16.0)\n",
      "Requirement already satisfied: python-dateutil>=2.5.3 in c:\\users\\pokhr\\appdata\\local\\programs\\python\\python311\\lib\\site-packages (from kubernetes>=28.1.0->chromadb) (2.8.2)\n",
      "Requirement already satisfied: websocket-client!=0.40.0,!=0.41.*,!=0.42.*,>=0.32.0 in c:\\users\\pokhr\\appdata\\local\\programs\\python\\python311\\lib\\site-packages (from kubernetes>=28.1.0->chromadb) (1.4.2)\n",
      "Requirement already satisfied: requests-oauthlib in c:\\users\\pokhr\\appdata\\local\\programs\\python\\python311\\lib\\site-packages (from kubernetes>=28.1.0->chromadb) (1.3.1)\n",
      "Requirement already satisfied: oauthlib>=3.2.2 in c:\\users\\pokhr\\appdata\\local\\programs\\python\\python311\\lib\\site-packages (from kubernetes>=28.1.0->chromadb) (3.2.2)\n",
      "Requirement already satisfied: urllib3<2.0,>=1.24.2 in c:\\users\\pokhr\\appdata\\local\\programs\\python\\python311\\lib\\site-packages (from kubernetes>=28.1.0->chromadb) (1.26.18)\n",
      "Requirement already satisfied: anyio<5,>=3 in c:\\users\\pokhr\\appdata\\local\\programs\\python\\python311\\lib\\site-packages (from langchain-core<0.2,>=0.1->langchain-google-genai) (3.6.2)\n",
      "Requirement already satisfied: coloredlogs in c:\\users\\pokhr\\appdata\\local\\programs\\python\\python311\\lib\\site-packages (from onnxruntime>=1.14.1->chromadb) (15.0.1)\n",
      "Requirement already satisfied: flatbuffers in c:\\users\\pokhr\\appdata\\local\\programs\\python\\python311\\lib\\site-packages (from onnxruntime>=1.14.1->chromadb) (23.5.26)\n",
      "Requirement already satisfied: sympy in c:\\users\\pokhr\\appdata\\local\\programs\\python\\python311\\lib\\site-packages (from onnxruntime>=1.14.1->chromadb) (1.12)\n",
      "Requirement already satisfied: deprecated>=1.2.6 in c:\\users\\pokhr\\appdata\\local\\programs\\python\\python311\\lib\\site-packages (from opentelemetry-api>=1.2.0->chromadb) (1.2.14)\n",
      "Requirement already satisfied: importlib-metadata<7.0,>=6.0 in c:\\users\\pokhr\\appdata\\local\\programs\\python\\python311\\lib\\site-packages (from opentelemetry-api>=1.2.0->chromadb) (6.11.0)\n",
      "Requirement already satisfied: backoff<3.0.0,>=1.10.0 in c:\\users\\pokhr\\appdata\\local\\programs\\python\\python311\\lib\\site-packages (from opentelemetry-exporter-otlp-proto-grpc>=1.2.0->chromadb) (2.2.1)\n",
      "Requirement already satisfied: googleapis-common-protos~=1.52 in c:\\users\\pokhr\\appdata\\local\\programs\\python\\python311\\lib\\site-packages (from opentelemetry-exporter-otlp-proto-grpc>=1.2.0->chromadb) (1.62.0)\n",
      "Requirement already satisfied: opentelemetry-exporter-otlp-proto-common==1.22.0 in c:\\users\\pokhr\\appdata\\local\\programs\\python\\python311\\lib\\site-packages (from opentelemetry-exporter-otlp-proto-grpc>=1.2.0->chromadb) (1.22.0)\n",
      "Requirement already satisfied: opentelemetry-proto==1.22.0 in c:\\users\\pokhr\\appdata\\local\\programs\\python\\python311\\lib\\site-packages (from opentelemetry-exporter-otlp-proto-grpc>=1.2.0->chromadb) (1.22.0)\n",
      "Requirement already satisfied: opentelemetry-instrumentation-asgi==0.43b0 in c:\\users\\pokhr\\appdata\\local\\programs\\python\\python311\\lib\\site-packages (from opentelemetry-instrumentation-fastapi>=0.41b0->chromadb) (0.43b0)\n",
      "Requirement already satisfied: opentelemetry-instrumentation==0.43b0 in c:\\users\\pokhr\\appdata\\local\\programs\\python\\python311\\lib\\site-packages (from opentelemetry-instrumentation-fastapi>=0.41b0->chromadb) (0.43b0)\n",
      "Requirement already satisfied: opentelemetry-semantic-conventions==0.43b0 in c:\\users\\pokhr\\appdata\\local\\programs\\python\\python311\\lib\\site-packages (from opentelemetry-instrumentation-fastapi>=0.41b0->chromadb) (0.43b0)\n",
      "Requirement already satisfied: opentelemetry-util-http==0.43b0 in c:\\users\\pokhr\\appdata\\local\\programs\\python\\python311\\lib\\site-packages (from opentelemetry-instrumentation-fastapi>=0.41b0->chromadb) (0.43b0)\n",
      "Requirement already satisfied: setuptools>=16.0 in c:\\users\\pokhr\\appdata\\local\\programs\\python\\python311\\lib\\site-packages (from opentelemetry-instrumentation==0.43b0->opentelemetry-instrumentation-fastapi>=0.41b0->chromadb) (65.5.0)\n",
      "Requirement already satisfied: wrapt<2.0.0,>=1.0.0 in c:\\users\\pokhr\\appdata\\local\\programs\\python\\python311\\lib\\site-packages (from opentelemetry-instrumentation==0.43b0->opentelemetry-instrumentation-fastapi>=0.41b0->chromadb) (1.14.1)\n",
      "Requirement already satisfied: asgiref~=3.0 in c:\\users\\pokhr\\appdata\\local\\programs\\python\\python311\\lib\\site-packages (from opentelemetry-instrumentation-asgi==0.43b0->opentelemetry-instrumentation-fastapi>=0.41b0->chromadb) (3.7.2)\n",
      "Requirement already satisfied: monotonic>=1.5 in c:\\users\\pokhr\\appdata\\local\\programs\\python\\python311\\lib\\site-packages (from posthog>=2.4.0->chromadb) (1.6)\n",
      "Requirement already satisfied: annotated-types>=0.4.0 in c:\\users\\pokhr\\appdata\\local\\programs\\python\\python311\\lib\\site-packages (from pydantic<3,>=1->langchain) (0.6.0)\n",
      "Requirement already satisfied: pydantic-core==2.14.6 in c:\\users\\pokhr\\appdata\\local\\programs\\python\\python311\\lib\\site-packages (from pydantic<3,>=1->langchain) (2.14.6)\n",
      "Requirement already satisfied: charset-normalizer<4,>=2 in c:\\users\\pokhr\\appdata\\local\\programs\\python\\python311\\lib\\site-packages (from requests<3,>=2->langchain) (3.3.2)\n",
      "Requirement already satisfied: idna<4,>=2.5 in c:\\users\\pokhr\\appdata\\local\\programs\\python\\python311\\lib\\site-packages (from requests<3,>=2->langchain) (3.4)\n",
      "Requirement already satisfied: greenlet!=0.4.17 in c:\\users\\pokhr\\appdata\\local\\programs\\python\\python311\\lib\\site-packages (from SQLAlchemy<3,>=1.4->langchain) (3.0.3)\n",
      "Requirement already satisfied: huggingface_hub<1.0,>=0.16.4 in c:\\users\\pokhr\\appdata\\local\\programs\\python\\python311\\lib\\site-packages (from tokenizers>=0.13.2->chromadb) (0.20.1)\n",
      "Requirement already satisfied: click<9.0.0,>=7.1.1 in c:\\users\\pokhr\\appdata\\local\\programs\\python\\python311\\lib\\site-packages (from typer>=0.9.0->chromadb) (8.1.7)\n",
      "Requirement already satisfied: h11>=0.8 in c:\\users\\pokhr\\appdata\\local\\programs\\python\\python311\\lib\\site-packages (from uvicorn>=0.18.3->uvicorn[standard]>=0.18.3->chromadb) (0.14.0)\n",
      "Requirement already satisfied: httptools>=0.5.0 in c:\\users\\pokhr\\appdata\\local\\programs\\python\\python311\\lib\\site-packages (from uvicorn[standard]>=0.18.3->chromadb) (0.6.1)\n",
      "Requirement already satisfied: python-dotenv>=0.13 in c:\\users\\pokhr\\appdata\\local\\programs\\python\\python311\\lib\\site-packages (from uvicorn[standard]>=0.18.3->chromadb) (1.0.0)\n",
      "Requirement already satisfied: watchfiles>=0.13 in c:\\users\\pokhr\\appdata\\local\\programs\\python\\python311\\lib\\site-packages (from uvicorn[standard]>=0.18.3->chromadb) (0.21.0)\n",
      "Requirement already satisfied: websockets>=10.4 in c:\\users\\pokhr\\appdata\\local\\programs\\python\\python311\\lib\\site-packages (from uvicorn[standard]>=0.18.3->chromadb) (12.0)\n",
      "Requirement already satisfied: sniffio>=1.1 in c:\\users\\pokhr\\appdata\\local\\programs\\python\\python311\\lib\\site-packages (from anyio<5,>=3->langchain-core<0.2,>=0.1->langchain-google-genai) (1.3.0)\n",
      "Requirement already satisfied: cachetools<6.0,>=2.0.0 in c:\\users\\pokhr\\appdata\\local\\programs\\python\\python311\\lib\\site-packages (from google-auth->google-generativeai<0.4.0,>=0.3.1->langchain-google-genai) (5.3.1)\n",
      "Requirement already satisfied: pyasn1-modules>=0.2.1 in c:\\users\\pokhr\\appdata\\local\\programs\\python\\python311\\lib\\site-packages (from google-auth->google-generativeai<0.4.0,>=0.3.1->langchain-google-genai) (0.3.0)\n",
      "Requirement already satisfied: rsa<5,>=3.1.4 in c:\\users\\pokhr\\appdata\\local\\programs\\python\\python311\\lib\\site-packages (from google-auth->google-generativeai<0.4.0,>=0.3.1->langchain-google-genai) (4.9)\n",
      "Requirement already satisfied: filelock in c:\\users\\pokhr\\appdata\\local\\programs\\python\\python311\\lib\\site-packages (from huggingface_hub<1.0,>=0.16.4->tokenizers>=0.13.2->chromadb) (3.13.1)\n",
      "Requirement already satisfied: fsspec>=2023.5.0 in c:\\users\\pokhr\\appdata\\local\\programs\\python\\python311\\lib\\site-packages (from huggingface_hub<1.0,>=0.16.4->tokenizers>=0.13.2->chromadb) (2023.12.2)\n",
      "Requirement already satisfied: zipp>=0.5 in c:\\users\\pokhr\\appdata\\local\\programs\\python\\python311\\lib\\site-packages (from importlib-metadata<7.0,>=6.0->opentelemetry-api>=1.2.0->chromadb) (3.17.0)\n",
      "Requirement already satisfied: mypy-extensions>=0.3.0 in c:\\users\\pokhr\\appdata\\local\\programs\\python\\python311\\lib\\site-packages (from typing-inspect<1,>=0.4.0->dataclasses-json<0.7,>=0.5.7->langchain) (1.0.0)\n",
      "Requirement already satisfied: humanfriendly>=9.1 in c:\\users\\pokhr\\appdata\\local\\programs\\python\\python311\\lib\\site-packages (from coloredlogs->onnxruntime>=1.14.1->chromadb) (10.0)\n",
      "Requirement already satisfied: mpmath>=0.19 in c:\\users\\pokhr\\appdata\\local\\programs\\python\\python311\\lib\\site-packages (from sympy->onnxruntime>=1.14.1->chromadb) (1.3.0)\n",
      "Requirement already satisfied: grpcio-status<2.0.dev0,>=1.33.2 in c:\\users\\pokhr\\appdata\\local\\programs\\python\\python311\\lib\\site-packages (from google-api-core[grpc]!=2.0.*,!=2.1.*,!=2.10.*,!=2.2.*,!=2.3.*,!=2.4.*,!=2.5.*,!=2.6.*,!=2.7.*,!=2.8.*,!=2.9.*,<3.0.0dev,>=1.34.0->google-ai-generativelanguage==0.4.0->google-generativeai<0.4.0,>=0.3.1->langchain-google-genai) (1.60.0)\n",
      "Requirement already satisfied: pyreadline3 in c:\\users\\pokhr\\appdata\\local\\programs\\python\\python311\\lib\\site-packages (from humanfriendly>=9.1->coloredlogs->onnxruntime>=1.14.1->chromadb) (3.4.1)\n",
      "Requirement already satisfied: pyasn1<0.6.0,>=0.4.6 in c:\\users\\pokhr\\appdata\\local\\programs\\python\\python311\\lib\\site-packages (from pyasn1-modules>=0.2.1->google-auth->google-generativeai<0.4.0,>=0.3.1->langchain-google-genai) (0.5.0)\n",
      "Downloading langchain_google_genai-0.0.6-py3-none-any.whl (15 kB)\n",
      "Installing collected packages: langchain-google-genai\n",
      "  Attempting uninstall: langchain-google-genai\n",
      "    Found existing installation: langchain-google-genai 0.0.5\n",
      "    Uninstalling langchain-google-genai-0.0.5:\n",
      "      Successfully uninstalled langchain-google-genai-0.0.5\n",
      "Successfully installed langchain-google-genai-0.0.6\n"
     ]
    }
   ],
   "source": [
    "!pip install -U langchain-google-genai pypdf  langchain chromadb\n"
   ]
  },
  {
   "cell_type": "code",
   "execution_count": 2,
   "id": "5351cffc",
   "metadata": {},
   "outputs": [],
   "source": [
    "import urllib\n",
    "import warnings\n",
    "from pathlib import Path as p\n",
    "from pprint import pprint\n",
    "\n",
    "import pandas as pd\n",
    "from langchain import PromptTemplate\n",
    "from langchain.chains.question_answering import load_qa_chain\n",
    "from langchain.document_loaders import PyPDFLoader\n",
    "from langchain.text_splitter import RecursiveCharacterTextSplitter\n",
    "from langchain.vectorstores import Chroma\n",
    "from pathlib import Path as p\n",
    "from langchain_google_genai import ChatGoogleGenerativeAI,GoogleGenerativeAIEmbeddings\n",
    "warnings.filterwarnings(\"ignore\")"
   ]
  },
  {
   "cell_type": "markdown",
   "id": "71e235f0",
   "metadata": {},
   "source": [
    "### Initializing DB"
   ]
  },
  {
   "cell_type": "code",
   "execution_count": 3,
   "id": "3e18b7dd",
   "metadata": {},
   "outputs": [],
   "source": [
    "import chromadb\n",
    "chroma_client = chromadb.Client()"
   ]
  },
  {
   "cell_type": "code",
   "execution_count": 4,
   "id": "74242950",
   "metadata": {},
   "outputs": [],
   "source": [
    "collection = chroma_client.create_collection(name=\"my_collection\")"
   ]
  },
  {
   "cell_type": "markdown",
   "id": "b05963e3",
   "metadata": {},
   "source": []
  },
  {
   "cell_type": "code",
   "execution_count": 5,
   "id": "be4c02d7",
   "metadata": {},
   "outputs": [],
   "source": [
    "## Read the API key from a file\n",
    "with open('secrete.txt', 'r') as file:\n",
    "    Api_key = file.read().strip()\n",
    "from langchain_google_genai import ChatGoogleGenerativeAI\n",
    "# Set the environment variable for Google API\n",
    "import os\n",
    "GOOGLE_API_KEY = Api_key\n",
    "os.environ[\"GOOGLE_API_KEY\"] = GOOGLE_API_KEY\n",
    "from langchain_google_genai import ChatGoogleGenerativeAI\n",
    "model = ChatGoogleGenerativeAI(model=\"gemini-pro\", temperature=0.3)\n",
    "embeddings = GoogleGenerativeAIEmbeddings(model = \"models/embedding-001\")                             "
   ]
  },
  {
   "cell_type": "code",
   "execution_count": 6,
   "id": "13a8e11f",
   "metadata": {},
   "outputs": [],
   "source": [
    "# Set the environment variable for Google API\n",
    "model = ChatGoogleGenerativeAI(model=\"gemini-pro\", temperature=0.3)\n",
    "embeddings = GoogleGenerativeAIEmbeddings(model = \"models/embedding-001\")\n",
    "history = []\n",
    "vector_store = None"
   ]
  },
  {
   "cell_type": "code",
   "execution_count": 7,
   "id": "4ad7667c",
   "metadata": {},
   "outputs": [],
   "source": [
    "# Define the prompt template for the chatbot\n",
    "prompt_template = \"\"\"\n",
    "  Answer the question as detailed as possible from the provided context, make sure to provide all the details, if the answer is not in\n",
    "  provided context just say, \"answer is not available in the context\", don't provide the wrong answer\\n\\n\n",
    "  Context:\\n {context}?\\n\n",
    "  Question: \\n{question}\\n\n",
    "  History: \\n{history}\\n\n",
    "\n",
    "  Answer:\n",
    "\"\"\""
   ]
  },
  {
   "cell_type": "code",
   "execution_count": 8,
   "id": "bad94fd1",
   "metadata": {},
   "outputs": [],
   "source": [
    "# Create an instance of the PromptTemplate class\n",
    "prompt = PromptTemplate(template = prompt_template, input_variables = [\"context\", \"question\", \"history\"])\n"
   ]
  },
  {
   "cell_type": "code",
   "execution_count": 9,
   "id": "d8a74fd2",
   "metadata": {},
   "outputs": [],
   "source": [
    "\n",
    "# Load the question answering chain\n",
    "chain = load_qa_chain(model, chain_type=\"stuff\", prompt=prompt)"
   ]
  },
  {
   "cell_type": "code",
   "execution_count": 10,
   "id": "8825b70f",
   "metadata": {},
   "outputs": [],
   "source": [
    "\n",
    "# Define a function to handle the user input\n",
    "def handle_input(user_input):\n",
    "  \n",
    "  history.append(f\"User: {user_input}\")\n",
    "\n",
    " \n",
    "  if user_input.startswith(\"!\"):\n",
    "    \n",
    "    handle_command(user_input)\n",
    "  else:\n",
    "    \n",
    "    handle_question(user_input)"
   ]
  },
  {
   "cell_type": "code",
   "execution_count": 11,
   "id": "52c48c46",
   "metadata": {},
   "outputs": [],
   "source": [
    "# Define a function to handle the commands\n",
    "def handle_command(command):\n",
    " \n",
    "  if command == \"!quit\":\n",
    "    exit()\n",
    "  elif command == \"!clear\":\n",
    "    history.clear()\n",
    "    print(\"History cleared.\")\n",
    "  else:\n",
    "    print(\"Invalid command. Please try again.\")\n"
   ]
  },
  {
   "cell_type": "code",
   "execution_count": 12,
   "id": "6ff18a94",
   "metadata": {},
   "outputs": [],
   "source": [
    "# Define a function to handle the questions\n",
    "def handle_question(question):\n",
    "      # Check if the vector store is initialized\n",
    "    if vector_store is None:\n",
    "        initialize_vector_store()\n",
    "        \n",
    "    docs = vector_store.get_relevant_documents(question)\n",
    "    \n",
    "    prompt = PromptTemplate(template=prompt_template, input_variables=[\"context\", \"question\", \"history\"])\n",
    "    response = chain(\n",
    "        {\"input_documents\": docs, \"question\": question, \"history\": \"\\n\".join(history[-2:])},\n",
    "        return_only_outputs=True\n",
    "    )\n",
    "    history.append(f\"model: {response}\")\n",
    "    print()\n",
    "    print(f\"Chatbot: {response}\")\n",
    "    print()\n",
    "    print('*******************************************************************************************************************************')\n"
   ]
  },
  {
   "cell_type": "code",
   "execution_count": 13,
   "id": "685297e5",
   "metadata": {},
   "outputs": [],
   "source": [
    "# Define a function to initialize the vector store\n",
    "def initialize_vector_store():\n",
    "    data_folder = p.cwd() / \"data\"\n",
    "    p(data_folder).mkdir(parents=True, exist_ok=True)\n",
    "\n",
    "    pdf_url = \"https://services.google.com/fh/files/misc/practitioners_guide_to_mlops_whitepaper.pdf\"\n",
    "    pdf_file = str(p(data_folder, pdf_url.split(\"/\")[-1]))\n",
    "\n",
    "    urllib.request.urlretrieve(pdf_url, pdf_file)\n",
    "    pdf_loader = PyPDFLoader(pdf_file)\n",
    "    data = pdf_loader.load_and_split()\n",
    "    text_splitter = RecursiveCharacterTextSplitter(chunk_size=10000, chunk_overlap=200)\n",
    "    context = \"\\n\\n\".join(str(p.page_content) for p in data)\n",
    "\n",
    "    texts = text_splitter.split_text(context)     \n",
    "\n",
    "  # Embed the chunks and save them to the vector store\n",
    "    global vector_store\n",
    "    vector_store = Chroma.from_texts(texts, embeddings).as_retriever()\n",
    "    print(\"Vector store initialized.\")"
   ]
  },
  {
   "cell_type": "code",
   "execution_count": null,
   "id": "3fb2b52c",
   "metadata": {},
   "outputs": [
    {
     "name": "stdout",
     "output_type": "stream",
     "text": [
      "Hello, this is a chatbot that can answer your questions based on a PDF document. You can also use the following commands:\n",
      "!quit: Exit the chatbot\n",
      "!clear: Clear the history\n",
      "User: \"Give overview of MLOps\"\n",
      "Vector store initialized.\n",
      "\n",
      "Chatbot: {'output_text': 'MLOps is a set of practices that aims to streamline the lifecycle of machine learning (ML) models, from development to deployment and monitoring. It involves automating and integrating the various stages of the ML lifecycle, including data preparation, model training, evaluation, deployment, and monitoring. The goal of MLOps is to improve the efficiency, reliability, and governance of ML systems.\\n\\nKey components of MLOps include:\\n\\n1. Experimentation: This involves setting up an environment for data scientists and ML engineers to explore and develop ML models. It includes tools for data exploration, model prototyping, and tracking experiments.\\n\\n2. Data processing: This involves preparing and transforming data for ML training and serving. It includes data cleaning, feature engineering, and data augmentation techniques.\\n\\n3. Model training: This involves training ML models using various algorithms and techniques. It includes selecting appropriate training data, hyperparameter tuning, and monitoring the training process.\\n\\n4. Model evaluation: This involves assessing the performance of ML models using various metrics and techniques. It includes comparing models, identifying biases, and ensuring model fairness.\\n\\n5. Model deployment: This involves deploying ML models to production environments for real-world use. It includes packaging models, creating serving infrastructure, and managing model versions.\\n\\n6. Prediction serving: This involves serving ML models to end-users or applications for making predictions. It includes handling requests, generating predictions, and monitoring the serving process.\\n\\n7. Continuous monitoring: This involves monitoring the performance and health of deployed ML models in production. It includes detecting anomalies, identifying model drift, and triggering retraining when necessary.\\n\\n8. Model management: This involves managing the lifecycle of ML models, including versioning, documentation, and governance. It includes tracking model performance, conducting audits, and ensuring compliance with regulations.\\n\\n9. ML metadata and artifact tracking: This involves capturing and storing metadata and artifacts generated during the ML lifecycle. It includes experiment configurations, model parameters, evaluation results, and model artifacts.\\n\\n10. ML pipelines: This involves automating and orchestrating the various stages of the ML lifecycle. It includes creating pipelines for data processing, model training, evaluation, and deployment.\\n\\nBy implementing MLOps practices, organizations can improve the efficiency and effectiveness of their ML projects, reduce the time to market for new ML models, and ensure the reliability and governance of their ML systems.'}\n",
      "\n",
      "*******************************************************************************************************************************\n",
      "User: \"Explain its capabailities\"\n",
      "\n",
      "Chatbot: {'output_text': 'MLOps provides a set of capabilities to streamline the lifecycle of machine learning (ML) models, from development to deployment and monitoring. These capabilities include:\\n\\n1. Experimentation: MLOps provides tools and environments for data scientists and ML engineers to explore and develop ML models. This includes data exploration, model prototyping, and tracking experiments.\\n\\n2. Data processing: MLOps provides capabilities for preparing and transforming data for ML training and serving. This includes data cleaning, feature engineering, and data augmentation techniques.\\n\\n3. Model training: MLOps provides capabilities for training ML models using various algorithms and techniques. This includes selecting appropriate training data, hyperparameter tuning, and monitoring the training process.\\n\\n4. Model evaluation: MLOps provides capabilities for assessing the performance of ML models using various metrics and techniques. This includes comparing models, identifying biases, and ensuring model fairness.\\n\\n5. Model deployment: MLOps provides capabilities for deploying ML models to production environments for real-world use. This includes packaging models, creating serving infrastructure, and managing model versions.\\n\\n6. Prediction serving: MLOps provides capabilities for serving ML models to end-users or applications for making predictions. This includes handling requests, generating predictions, and monitoring the serving process.\\n\\n7. Continuous monitoring: MLOps provides capabilities for monitoring the performance and health of deployed ML models in production. This includes detecting anomalies, identifying model drift, and triggering retraining when necessary.\\n\\n8. Model management: MLOps provides capabilities for managing the lifecycle of ML models, including versioning, documentation, and governance. This includes tracking model performance, conducting audits, and ensuring compliance with regulations.\\n\\n9. ML metadata and artifact tracking: MLOps provides capabilities for capturing and storing metadata and artifacts generated during the ML lifecycle. This includes experiment configurations, model parameters, evaluation results, and model artifacts.\\n\\n10. ML pipelines: MLOps provides capabilities for automating and orchestrating the various stages of the ML lifecycle. This includes creating pipelines for data processing, model training, evaluation, and deployment.'}\n",
      "\n",
      "*******************************************************************************************************************************\n",
      "User: \"Explain Database\"\n",
      "\n",
      "Chatbot: {'output_text': 'The provided context does not contain any information about databases, so I cannot answer this question from the provided context.'}\n",
      "\n",
      "*******************************************************************************************************************************\n"
     ]
    }
   ],
   "source": [
    "\n",
    "print(\"Hello, this is a chatbot that can answer your questions based on a PDF document. You can also use the following commands:\\n!quit: Exit the chatbot\\n!clear: Clear the history\")\n",
    "while True:\n",
    "  \n",
    "  user_input = input(\"User: \")\n",
    "\n",
    "  # Handle the user input\n",
    "  handle_input(user_input)"
   ]
  },
  {
   "cell_type": "code",
   "execution_count": null,
   "id": "c677ad97",
   "metadata": {},
   "outputs": [],
   "source": [
    "print(history)"
   ]
  },
  {
   "cell_type": "code",
   "execution_count": null,
   "id": "8b480e19",
   "metadata": {},
   "outputs": [],
   "source": []
  }
 ],
 "metadata": {
  "kernelspec": {
   "display_name": "Python 3 (ipykernel)",
   "language": "python",
   "name": "python3"
  },
  "language_info": {
   "codemirror_mode": {
    "name": "ipython",
    "version": 3
   },
   "file_extension": ".py",
   "mimetype": "text/x-python",
   "name": "python",
   "nbconvert_exporter": "python",
   "pygments_lexer": "ipython3",
   "version": "3.11.0"
  }
 },
 "nbformat": 4,
 "nbformat_minor": 5
}
